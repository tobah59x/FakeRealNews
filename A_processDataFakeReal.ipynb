{
  "nbformat": 4,
  "nbformat_minor": 0,
  "metadata": {
    "colab": {
      "provenance": []
    },
    "kernelspec": {
      "name": "python3",
      "display_name": "Python 3"
    },
    "language_info": {
      "name": "python"
    }
  },
  "cells": [
    {
      "cell_type": "markdown",
      "source": [
        "### Data Processing\n",
        "\n",
        "<small>Written by: Ali Tobah - tobah@umich.edu</small>"
      ],
      "metadata": {
        "id": "YgbkCIXuMfk_"
      }
    },
    {
      "cell_type": "code",
      "source": [
        "import pandas as pd\n",
        "import os\n",
        "import re\n",
        "import altair as alt"
      ],
      "metadata": {
        "id": "ycWkglbQm_ZU"
      },
      "execution_count": 1,
      "outputs": []
    },
    {
      "cell_type": "code",
      "source": [
        "alt.renderers.enable('mimetype')"
      ],
      "metadata": {
        "colab": {
          "base_uri": "https://localhost:8080/"
        },
        "id": "Cosj1MXFzYTa",
        "outputId": "e3c80620-fbaa-4922-ae4d-fd0a953fff43"
      },
      "execution_count": 2,
      "outputs": [
        {
          "output_type": "execute_result",
          "data": {
            "text/plain": [
              "RendererRegistry.enable('mimetype')"
            ]
          },
          "metadata": {},
          "execution_count": 2
        }
      ]
    },
    {
      "cell_type": "code",
      "source": [
        "# In some environemnts such as Google Colab, it's\n",
        "# faster to upload a zip file than the raw data.\n",
        "# Uncomment the line below if needed to unzip the data.\n",
        "# Should have the zip file uploaded first, of course.\n",
        "\n",
        "#!unzip 'data.zip'\n",
        "\n",
        "# This code creates the subdirectory for the processed data.\n",
        "# The code in the next cell creates the output csv file, but\n",
        "# gives an error if the directory doesn't already exist.\n",
        "\n",
        "if not os.path.exists('data/processed'):\n",
        "    !mkdir data/processed\n",
        "    print('Directory created.')\n",
        "else:\n",
        "    print('Directory already there.')"
      ],
      "metadata": {
        "id": "Jfg_SwMRyuf5",
        "colab": {
          "base_uri": "https://localhost:8080/"
        },
        "outputId": "832d5776-031a-456f-96d7-d5c87231e308"
      },
      "execution_count": 8,
      "outputs": [
        {
          "output_type": "stream",
          "name": "stdout",
          "text": [
            "Directory already there.\n"
          ]
        }
      ]
    },
    {
      "cell_type": "code",
      "source": [
        "dirPath = 'data/raw'\n",
        "dirPathSubList = ['/fakeNewsDataset/fake',\n",
        "               '/fakeNewsDataset/legit',\n",
        "               '/celebrityDataset/fake',\n",
        "               '/celebrityDataset/legit']\n",
        "\n",
        "columnLabels = ['Text', 'Domain', 'Label']\n",
        "allArticlesList = []\n",
        "for eaDir in dirPathSubList:\n",
        "    eaDir = dirPath + eaDir\n",
        "    allDirsContents = []\n",
        "    for eaFile in os.listdir(eaDir):\n",
        "        with open(os.path.join(eaDir, eaFile), 'r') as currFile:\n",
        "            # File contents, including a title if there is one\n",
        "            fileText = currFile.read()\n",
        "\n",
        "            # Get the domain: 'celebrity' or first part\n",
        "            # of the file name\n",
        "            if eaDir.split('/')[2] == 'celebrityDataset':\n",
        "                fileDomain = 'celebrity'\n",
        "            else:\n",
        "                fileDomain = re.split(r'(\\d+)', eaFile)[0]\n",
        "\n",
        "            # Label, whether it is fake or legit (real)\n",
        "            fileLabel = eaDir.split('/')[-1]\n",
        "\n",
        "            # Compile list of directory contents: Text plus attributes\n",
        "            allDirsContents.append([fileText, fileDomain, fileLabel])\n",
        "    \n",
        "    # Compile list of all articles with attributes\n",
        "    allArticlesList.extend(allDirsContents)\n",
        "\n",
        "# Create a dataframe and save in a file.\n",
        "# Note that the subdirectory should already exist\n",
        "# as noted above.\n",
        "articlesDF = pd.DataFrame(allArticlesList, columns=columnLabels)\n",
        "outFile = 'data/processed/allnewsdataFakeReal.csv'\n",
        "articlesDF.to_csv(outFile)\n",
        "    "
      ],
      "metadata": {
        "id": "Bsy5Rhvzzp8C"
      },
      "execution_count": 9,
      "outputs": []
    },
    {
      "cell_type": "code",
      "source": [
        "articlesDF.shape"
      ],
      "metadata": {
        "colab": {
          "base_uri": "https://localhost:8080/"
        },
        "id": "AUilfHpNitgJ",
        "outputId": "7eceae7c-966b-4902-b65b-753fe9300b1c"
      },
      "execution_count": 10,
      "outputs": [
        {
          "output_type": "execute_result",
          "data": {
            "text/plain": [
              "(980, 3)"
            ]
          },
          "metadata": {},
          "execution_count": 10
        }
      ]
    },
    {
      "cell_type": "code",
      "source": [
        "articlesDF.head()"
      ],
      "metadata": {
        "id": "98rBpgMDlvY3",
        "colab": {
          "base_uri": "https://localhost:8080/",
          "height": 206
        },
        "outputId": "34a5c114-c3bc-432e-e056-10ff3407618d"
      },
      "execution_count": 11,
      "outputs": [
        {
          "output_type": "execute_result",
          "data": {
            "text/plain": [
              "                                                Text Domain Label\n",
              "0  6YO Brings Gun to School\\n\\n\\n\\nIn Rancho Cuca...    edu  fake\n",
              "1  UK banks said not prepared for Brexit\\n\\nThe B...    biz  fake\n",
              "2  Alex Jones Vindicated in \"Pizzagate\" Controver...    biz  fake\n",
              "3  Facebook Messenger is eliminating Emoji's\\n\\nF...   tech  fake\n",
              "4  Yahoo Denies Data Breach from 500M Accounts\\n\\...   tech  fake"
            ],
            "text/html": [
              "\n",
              "  <div id=\"df-97d7b605-391d-4ebb-9527-658111dd1111\">\n",
              "    <div class=\"colab-df-container\">\n",
              "      <div>\n",
              "<style scoped>\n",
              "    .dataframe tbody tr th:only-of-type {\n",
              "        vertical-align: middle;\n",
              "    }\n",
              "\n",
              "    .dataframe tbody tr th {\n",
              "        vertical-align: top;\n",
              "    }\n",
              "\n",
              "    .dataframe thead th {\n",
              "        text-align: right;\n",
              "    }\n",
              "</style>\n",
              "<table border=\"1\" class=\"dataframe\">\n",
              "  <thead>\n",
              "    <tr style=\"text-align: right;\">\n",
              "      <th></th>\n",
              "      <th>Text</th>\n",
              "      <th>Domain</th>\n",
              "      <th>Label</th>\n",
              "    </tr>\n",
              "  </thead>\n",
              "  <tbody>\n",
              "    <tr>\n",
              "      <th>0</th>\n",
              "      <td>6YO Brings Gun to School\\n\\n\\n\\nIn Rancho Cuca...</td>\n",
              "      <td>edu</td>\n",
              "      <td>fake</td>\n",
              "    </tr>\n",
              "    <tr>\n",
              "      <th>1</th>\n",
              "      <td>UK banks said not prepared for Brexit\\n\\nThe B...</td>\n",
              "      <td>biz</td>\n",
              "      <td>fake</td>\n",
              "    </tr>\n",
              "    <tr>\n",
              "      <th>2</th>\n",
              "      <td>Alex Jones Vindicated in \"Pizzagate\" Controver...</td>\n",
              "      <td>biz</td>\n",
              "      <td>fake</td>\n",
              "    </tr>\n",
              "    <tr>\n",
              "      <th>3</th>\n",
              "      <td>Facebook Messenger is eliminating Emoji's\\n\\nF...</td>\n",
              "      <td>tech</td>\n",
              "      <td>fake</td>\n",
              "    </tr>\n",
              "    <tr>\n",
              "      <th>4</th>\n",
              "      <td>Yahoo Denies Data Breach from 500M Accounts\\n\\...</td>\n",
              "      <td>tech</td>\n",
              "      <td>fake</td>\n",
              "    </tr>\n",
              "  </tbody>\n",
              "</table>\n",
              "</div>\n",
              "      <button class=\"colab-df-convert\" onclick=\"convertToInteractive('df-97d7b605-391d-4ebb-9527-658111dd1111')\"\n",
              "              title=\"Convert this dataframe to an interactive table.\"\n",
              "              style=\"display:none;\">\n",
              "        \n",
              "  <svg xmlns=\"http://www.w3.org/2000/svg\" height=\"24px\"viewBox=\"0 0 24 24\"\n",
              "       width=\"24px\">\n",
              "    <path d=\"M0 0h24v24H0V0z\" fill=\"none\"/>\n",
              "    <path d=\"M18.56 5.44l.94 2.06.94-2.06 2.06-.94-2.06-.94-.94-2.06-.94 2.06-2.06.94zm-11 1L8.5 8.5l.94-2.06 2.06-.94-2.06-.94L8.5 2.5l-.94 2.06-2.06.94zm10 10l.94 2.06.94-2.06 2.06-.94-2.06-.94-.94-2.06-.94 2.06-2.06.94z\"/><path d=\"M17.41 7.96l-1.37-1.37c-.4-.4-.92-.59-1.43-.59-.52 0-1.04.2-1.43.59L10.3 9.45l-7.72 7.72c-.78.78-.78 2.05 0 2.83L4 21.41c.39.39.9.59 1.41.59.51 0 1.02-.2 1.41-.59l7.78-7.78 2.81-2.81c.8-.78.8-2.07 0-2.86zM5.41 20L4 18.59l7.72-7.72 1.47 1.35L5.41 20z\"/>\n",
              "  </svg>\n",
              "      </button>\n",
              "      \n",
              "  <style>\n",
              "    .colab-df-container {\n",
              "      display:flex;\n",
              "      flex-wrap:wrap;\n",
              "      gap: 12px;\n",
              "    }\n",
              "\n",
              "    .colab-df-convert {\n",
              "      background-color: #E8F0FE;\n",
              "      border: none;\n",
              "      border-radius: 50%;\n",
              "      cursor: pointer;\n",
              "      display: none;\n",
              "      fill: #1967D2;\n",
              "      height: 32px;\n",
              "      padding: 0 0 0 0;\n",
              "      width: 32px;\n",
              "    }\n",
              "\n",
              "    .colab-df-convert:hover {\n",
              "      background-color: #E2EBFA;\n",
              "      box-shadow: 0px 1px 2px rgba(60, 64, 67, 0.3), 0px 1px 3px 1px rgba(60, 64, 67, 0.15);\n",
              "      fill: #174EA6;\n",
              "    }\n",
              "\n",
              "    [theme=dark] .colab-df-convert {\n",
              "      background-color: #3B4455;\n",
              "      fill: #D2E3FC;\n",
              "    }\n",
              "\n",
              "    [theme=dark] .colab-df-convert:hover {\n",
              "      background-color: #434B5C;\n",
              "      box-shadow: 0px 1px 3px 1px rgba(0, 0, 0, 0.15);\n",
              "      filter: drop-shadow(0px 1px 2px rgba(0, 0, 0, 0.3));\n",
              "      fill: #FFFFFF;\n",
              "    }\n",
              "  </style>\n",
              "\n",
              "      <script>\n",
              "        const buttonEl =\n",
              "          document.querySelector('#df-97d7b605-391d-4ebb-9527-658111dd1111 button.colab-df-convert');\n",
              "        buttonEl.style.display =\n",
              "          google.colab.kernel.accessAllowed ? 'block' : 'none';\n",
              "\n",
              "        async function convertToInteractive(key) {\n",
              "          const element = document.querySelector('#df-97d7b605-391d-4ebb-9527-658111dd1111');\n",
              "          const dataTable =\n",
              "            await google.colab.kernel.invokeFunction('convertToInteractive',\n",
              "                                                     [key], {});\n",
              "          if (!dataTable) return;\n",
              "\n",
              "          const docLinkHtml = 'Like what you see? Visit the ' +\n",
              "            '<a target=\"_blank\" href=https://colab.research.google.com/notebooks/data_table.ipynb>data table notebook</a>'\n",
              "            + ' to learn more about interactive tables.';\n",
              "          element.innerHTML = '';\n",
              "          dataTable['output_type'] = 'display_data';\n",
              "          await google.colab.output.renderOutput(dataTable, element);\n",
              "          const docLink = document.createElement('div');\n",
              "          docLink.innerHTML = docLinkHtml;\n",
              "          element.appendChild(docLink);\n",
              "        }\n",
              "      </script>\n",
              "    </div>\n",
              "  </div>\n",
              "  "
            ]
          },
          "metadata": {},
          "execution_count": 11
        }
      ]
    },
    {
      "cell_type": "code",
      "source": [
        "chartDF = articlesDF.groupby(['Domain', 'Label']).count().rename(columns={'Text': 'Number of Articles'}).reset_index()\n",
        "chartDF"
      ],
      "metadata": {
        "colab": {
          "base_uri": "https://localhost:8080/",
          "height": 489
        },
        "id": "C8YCl2MeixzP",
        "outputId": "1beaf0a4-ccee-4f01-f958-b584c2df8233"
      },
      "execution_count": 12,
      "outputs": [
        {
          "output_type": "execute_result",
          "data": {
            "text/plain": [
              "       Domain  Label  Number of Articles\n",
              "0         biz   fake                  40\n",
              "1         biz  legit                  40\n",
              "2   celebrity   fake                 250\n",
              "3   celebrity  legit                 250\n",
              "4         edu   fake                  40\n",
              "5         edu  legit                  40\n",
              "6       entmt   fake                  40\n",
              "7       entmt  legit                  40\n",
              "8       polit   fake                  40\n",
              "9       polit  legit                  40\n",
              "10     sports   fake                  40\n",
              "11     sports  legit                  40\n",
              "12       tech   fake                  40\n",
              "13       tech  legit                  40"
            ],
            "text/html": [
              "\n",
              "  <div id=\"df-ce6e85d2-a9ef-47b2-8689-3819cc64ac0f\">\n",
              "    <div class=\"colab-df-container\">\n",
              "      <div>\n",
              "<style scoped>\n",
              "    .dataframe tbody tr th:only-of-type {\n",
              "        vertical-align: middle;\n",
              "    }\n",
              "\n",
              "    .dataframe tbody tr th {\n",
              "        vertical-align: top;\n",
              "    }\n",
              "\n",
              "    .dataframe thead th {\n",
              "        text-align: right;\n",
              "    }\n",
              "</style>\n",
              "<table border=\"1\" class=\"dataframe\">\n",
              "  <thead>\n",
              "    <tr style=\"text-align: right;\">\n",
              "      <th></th>\n",
              "      <th>Domain</th>\n",
              "      <th>Label</th>\n",
              "      <th>Number of Articles</th>\n",
              "    </tr>\n",
              "  </thead>\n",
              "  <tbody>\n",
              "    <tr>\n",
              "      <th>0</th>\n",
              "      <td>biz</td>\n",
              "      <td>fake</td>\n",
              "      <td>40</td>\n",
              "    </tr>\n",
              "    <tr>\n",
              "      <th>1</th>\n",
              "      <td>biz</td>\n",
              "      <td>legit</td>\n",
              "      <td>40</td>\n",
              "    </tr>\n",
              "    <tr>\n",
              "      <th>2</th>\n",
              "      <td>celebrity</td>\n",
              "      <td>fake</td>\n",
              "      <td>250</td>\n",
              "    </tr>\n",
              "    <tr>\n",
              "      <th>3</th>\n",
              "      <td>celebrity</td>\n",
              "      <td>legit</td>\n",
              "      <td>250</td>\n",
              "    </tr>\n",
              "    <tr>\n",
              "      <th>4</th>\n",
              "      <td>edu</td>\n",
              "      <td>fake</td>\n",
              "      <td>40</td>\n",
              "    </tr>\n",
              "    <tr>\n",
              "      <th>5</th>\n",
              "      <td>edu</td>\n",
              "      <td>legit</td>\n",
              "      <td>40</td>\n",
              "    </tr>\n",
              "    <tr>\n",
              "      <th>6</th>\n",
              "      <td>entmt</td>\n",
              "      <td>fake</td>\n",
              "      <td>40</td>\n",
              "    </tr>\n",
              "    <tr>\n",
              "      <th>7</th>\n",
              "      <td>entmt</td>\n",
              "      <td>legit</td>\n",
              "      <td>40</td>\n",
              "    </tr>\n",
              "    <tr>\n",
              "      <th>8</th>\n",
              "      <td>polit</td>\n",
              "      <td>fake</td>\n",
              "      <td>40</td>\n",
              "    </tr>\n",
              "    <tr>\n",
              "      <th>9</th>\n",
              "      <td>polit</td>\n",
              "      <td>legit</td>\n",
              "      <td>40</td>\n",
              "    </tr>\n",
              "    <tr>\n",
              "      <th>10</th>\n",
              "      <td>sports</td>\n",
              "      <td>fake</td>\n",
              "      <td>40</td>\n",
              "    </tr>\n",
              "    <tr>\n",
              "      <th>11</th>\n",
              "      <td>sports</td>\n",
              "      <td>legit</td>\n",
              "      <td>40</td>\n",
              "    </tr>\n",
              "    <tr>\n",
              "      <th>12</th>\n",
              "      <td>tech</td>\n",
              "      <td>fake</td>\n",
              "      <td>40</td>\n",
              "    </tr>\n",
              "    <tr>\n",
              "      <th>13</th>\n",
              "      <td>tech</td>\n",
              "      <td>legit</td>\n",
              "      <td>40</td>\n",
              "    </tr>\n",
              "  </tbody>\n",
              "</table>\n",
              "</div>\n",
              "      <button class=\"colab-df-convert\" onclick=\"convertToInteractive('df-ce6e85d2-a9ef-47b2-8689-3819cc64ac0f')\"\n",
              "              title=\"Convert this dataframe to an interactive table.\"\n",
              "              style=\"display:none;\">\n",
              "        \n",
              "  <svg xmlns=\"http://www.w3.org/2000/svg\" height=\"24px\"viewBox=\"0 0 24 24\"\n",
              "       width=\"24px\">\n",
              "    <path d=\"M0 0h24v24H0V0z\" fill=\"none\"/>\n",
              "    <path d=\"M18.56 5.44l.94 2.06.94-2.06 2.06-.94-2.06-.94-.94-2.06-.94 2.06-2.06.94zm-11 1L8.5 8.5l.94-2.06 2.06-.94-2.06-.94L8.5 2.5l-.94 2.06-2.06.94zm10 10l.94 2.06.94-2.06 2.06-.94-2.06-.94-.94-2.06-.94 2.06-2.06.94z\"/><path d=\"M17.41 7.96l-1.37-1.37c-.4-.4-.92-.59-1.43-.59-.52 0-1.04.2-1.43.59L10.3 9.45l-7.72 7.72c-.78.78-.78 2.05 0 2.83L4 21.41c.39.39.9.59 1.41.59.51 0 1.02-.2 1.41-.59l7.78-7.78 2.81-2.81c.8-.78.8-2.07 0-2.86zM5.41 20L4 18.59l7.72-7.72 1.47 1.35L5.41 20z\"/>\n",
              "  </svg>\n",
              "      </button>\n",
              "      \n",
              "  <style>\n",
              "    .colab-df-container {\n",
              "      display:flex;\n",
              "      flex-wrap:wrap;\n",
              "      gap: 12px;\n",
              "    }\n",
              "\n",
              "    .colab-df-convert {\n",
              "      background-color: #E8F0FE;\n",
              "      border: none;\n",
              "      border-radius: 50%;\n",
              "      cursor: pointer;\n",
              "      display: none;\n",
              "      fill: #1967D2;\n",
              "      height: 32px;\n",
              "      padding: 0 0 0 0;\n",
              "      width: 32px;\n",
              "    }\n",
              "\n",
              "    .colab-df-convert:hover {\n",
              "      background-color: #E2EBFA;\n",
              "      box-shadow: 0px 1px 2px rgba(60, 64, 67, 0.3), 0px 1px 3px 1px rgba(60, 64, 67, 0.15);\n",
              "      fill: #174EA6;\n",
              "    }\n",
              "\n",
              "    [theme=dark] .colab-df-convert {\n",
              "      background-color: #3B4455;\n",
              "      fill: #D2E3FC;\n",
              "    }\n",
              "\n",
              "    [theme=dark] .colab-df-convert:hover {\n",
              "      background-color: #434B5C;\n",
              "      box-shadow: 0px 1px 3px 1px rgba(0, 0, 0, 0.15);\n",
              "      filter: drop-shadow(0px 1px 2px rgba(0, 0, 0, 0.3));\n",
              "      fill: #FFFFFF;\n",
              "    }\n",
              "  </style>\n",
              "\n",
              "      <script>\n",
              "        const buttonEl =\n",
              "          document.querySelector('#df-ce6e85d2-a9ef-47b2-8689-3819cc64ac0f button.colab-df-convert');\n",
              "        buttonEl.style.display =\n",
              "          google.colab.kernel.accessAllowed ? 'block' : 'none';\n",
              "\n",
              "        async function convertToInteractive(key) {\n",
              "          const element = document.querySelector('#df-ce6e85d2-a9ef-47b2-8689-3819cc64ac0f');\n",
              "          const dataTable =\n",
              "            await google.colab.kernel.invokeFunction('convertToInteractive',\n",
              "                                                     [key], {});\n",
              "          if (!dataTable) return;\n",
              "\n",
              "          const docLinkHtml = 'Like what you see? Visit the ' +\n",
              "            '<a target=\"_blank\" href=https://colab.research.google.com/notebooks/data_table.ipynb>data table notebook</a>'\n",
              "            + ' to learn more about interactive tables.';\n",
              "          element.innerHTML = '';\n",
              "          dataTable['output_type'] = 'display_data';\n",
              "          await google.colab.output.renderOutput(dataTable, element);\n",
              "          const docLink = document.createElement('div');\n",
              "          docLink.innerHTML = docLinkHtml;\n",
              "          element.appendChild(docLink);\n",
              "        }\n",
              "      </script>\n",
              "    </div>\n",
              "  </div>\n",
              "  "
            ]
          },
          "metadata": {},
          "execution_count": 12
        }
      ]
    },
    {
      "cell_type": "code",
      "source": [
        "articlesChart = alt.Chart(chartDF).mark_bar().encode(\n",
        "    x = alt.X('Number of Articles:Q'),\n",
        "    y = alt.Y('Label:N', title=None, axis=alt.Axis(labels=False, tickSize=0)),\n",
        "    color = alt.Color('Label:N'),\n",
        "    row = alt.Row('Domain:N')\n",
        "    )\n",
        "articlesChart"
      ],
      "metadata": {
        "colab": {
          "base_uri": "https://localhost:8080/",
          "height": 109
        },
        "id": "4Tff43zehsnu",
        "outputId": "398fd1b2-5fb5-4a8b-b769-d7ffa2482966"
      },
      "execution_count": 13,
      "outputs": [
        {
          "output_type": "execute_result",
          "data": {
            "application/vnd.vegalite.v4+json": {
              "config": {
                "view": {
                  "continuousWidth": 400,
                  "continuousHeight": 300
                }
              },
              "data": {
                "name": "data-84f187a9a323c6773f7ea40ffa837eb7"
              },
              "mark": "bar",
              "encoding": {
                "color": {
                  "field": "Label",
                  "type": "nominal"
                },
                "row": {
                  "field": "Domain",
                  "type": "nominal"
                },
                "x": {
                  "field": "Number of Articles",
                  "type": "quantitative"
                },
                "y": {
                  "axis": {
                    "labels": false,
                    "tickSize": 0
                  },
                  "field": "Label",
                  "title": null,
                  "type": "nominal"
                }
              },
              "$schema": "https://vega.github.io/schema/vega-lite/v4.17.0.json",
              "datasets": {
                "data-84f187a9a323c6773f7ea40ffa837eb7": [
                  {
                    "Domain": "biz",
                    "Label": "fake",
                    "Number of Articles": 40
                  },
                  {
                    "Domain": "biz",
                    "Label": "legit",
                    "Number of Articles": 40
                  },
                  {
                    "Domain": "celebrity",
                    "Label": "fake",
                    "Number of Articles": 250
                  },
                  {
                    "Domain": "celebrity",
                    "Label": "legit",
                    "Number of Articles": 250
                  },
                  {
                    "Domain": "edu",
                    "Label": "fake",
                    "Number of Articles": 40
                  },
                  {
                    "Domain": "edu",
                    "Label": "legit",
                    "Number of Articles": 40
                  },
                  {
                    "Domain": "entmt",
                    "Label": "fake",
                    "Number of Articles": 40
                  },
                  {
                    "Domain": "entmt",
                    "Label": "legit",
                    "Number of Articles": 40
                  },
                  {
                    "Domain": "polit",
                    "Label": "fake",
                    "Number of Articles": 40
                  },
                  {
                    "Domain": "polit",
                    "Label": "legit",
                    "Number of Articles": 40
                  },
                  {
                    "Domain": "sports",
                    "Label": "fake",
                    "Number of Articles": 40
                  },
                  {
                    "Domain": "sports",
                    "Label": "legit",
                    "Number of Articles": 40
                  },
                  {
                    "Domain": "tech",
                    "Label": "fake",
                    "Number of Articles": 40
                  },
                  {
                    "Domain": "tech",
                    "Label": "legit",
                    "Number of Articles": 40
                  }
                ]
              }
            },
            "text/plain": [
              "<VegaLite 4 object>\n",
              "\n",
              "If you see this message, it means the renderer has not been properly enabled\n",
              "for the frontend that you are using. For more information, see\n",
              "https://altair-viz.github.io/user_guide/troubleshooting.html\n"
            ]
          },
          "metadata": {},
          "execution_count": 13
        }
      ]
    },
    {
      "cell_type": "code",
      "source": [],
      "metadata": {
        "id": "55CumjUn1H0I"
      },
      "execution_count": null,
      "outputs": []
    }
  ]
}